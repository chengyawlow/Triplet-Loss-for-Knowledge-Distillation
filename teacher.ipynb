{
 "cells": [
  {
   "cell_type": "code",
   "execution_count": 1,
   "metadata": {},
   "outputs": [],
   "source": [
    "# to load dataset\n",
    "from datasets import Datasets\n",
    "\n",
    "# for network and training\n",
    "from network import Net_teacher\n",
    "\n",
    "# to calculate the score\n",
    "import savescore\n",
    "from score import Score\n",
    "from score_calc import ScoreCalc\n",
    "\n",
    "# pytorch\n",
    "import torch\n",
    "import torchvision\n",
    "import torchvision.transforms as transforms\n",
    "import torch.nn as nn\n",
    "import torch.optim as optim\n",
    "\n",
    "# numpy and matplotlib\n",
    "import numpy as np\n",
    "import matplotlib.pyplot as plt"
   ]
  },
  {
   "cell_type": "code",
   "execution_count": 2,
   "metadata": {},
   "outputs": [],
   "source": [
    "# initialize for  each parameters\n",
    "DATASET = 'CIFAR10'\n",
    "BATCH_SIZE = 100\n",
    "NUM_WORKERS = 2"
   ]
  },
  {
   "cell_type": "code",
   "execution_count": 3,
   "metadata": {},
   "outputs": [
    {
     "name": "stdout",
     "output_type": "stream",
     "text": [
      "gpu mode\n"
     ]
    }
   ],
   "source": [
    "# check if gpu is available\n",
    "if torch.cuda.is_available():\n",
    "    device = torch.device(\"cuda:0\")\n",
    "    print(\"gpu mode\")\n",
    "else:\n",
    "    device = torch.device(\"cpu\")\n",
    "    print(\"cpu mode\")"
   ]
  },
  {
   "cell_type": "code",
   "execution_count": 4,
   "metadata": {},
   "outputs": [],
   "source": [
    "# the name of results files\n",
    "codename = 'kd_teacher'\n",
    "\n",
    "result_name = codename + \"_result\""
   ]
  },
  {
   "cell_type": "code",
   "execution_count": 5,
   "metadata": {},
   "outputs": [
    {
     "name": "stdout",
     "output_type": "stream",
     "text": [
      "Dataset : CIFAR10\n",
      "Files already downloaded and verified\n",
      "Files already downloaded and verified\n"
     ]
    }
   ],
   "source": [
    "# load the data set\n",
    "instance_datasets = Datasets(DATASET, BATCH_SIZE, NUM_WORKERS)\n",
    "data_sets = instance_datasets.create()\n",
    "\n",
    "trainloader = data_sets[0]\n",
    "testloader = data_sets[1]\n",
    "classes = data_sets[2]\n",
    "based_labels = data_sets[3]\n",
    "trainset = data_sets[4]\n",
    "testset = data_sets[5]"
   ]
  },
  {
   "cell_type": "code",
   "execution_count": 6,
   "metadata": {},
   "outputs": [],
   "source": [
    "# network and criterions\n",
    "model_t = Net_teacher().to(device)\n",
    "model_t.load_state_dict(torch.load(\"cnn_alex.pkl\"))\n",
    "model_t.eval()\n",
    "\n",
    "soft_criterion = nn.CrossEntropyLoss()"
   ]
  },
  {
   "cell_type": "code",
   "execution_count": 7,
   "metadata": {},
   "outputs": [],
   "source": [
    "# to manage all scores\n",
    "loss = Score()\n",
    "correct = Score()\n",
    "score_loss = [loss]\n",
    "score_correct = [correct]\n",
    "sc = ScoreCalc(score_loss, score_correct, BATCH_SIZE)"
   ]
  },
  {
   "cell_type": "code",
   "execution_count": 8,
   "metadata": {},
   "outputs": [
    {
     "name": "stdout",
     "output_type": "stream",
     "text": [
      "train mean loss=0.18938172137737275, accuracy=0.99196\n",
      "test mean loss=0.5745016613602638, accuracy=0.8375\n"
     ]
    }
   ],
   "source": [
    "for (inputs, labels) in trainloader:\n",
    "    inputs, labels = inputs.to(device), labels.to(device)\n",
    "\n",
    "    out = model_t(inputs)\n",
    "    \n",
    "    loss = soft_criterion(out, labels).item()\n",
    "    \n",
    "    _, predicted = out.max(1)\n",
    "    correct = (predicted == labels).sum().item()\n",
    "    \n",
    "    sc.calc_sum([loss], [correct])\n",
    "\n",
    "sc.score_print(len(trainset))\n",
    "sc.score_append(len(trainset))\n",
    "sc.score_del()\n",
    "\n",
    "for (inputs, labels) in testloader:\n",
    "    inputs, labels = inputs.to(device), labels.to(device)\n",
    "\n",
    "    out = model_t(inputs)\n",
    "    \n",
    "    loss = soft_criterion(out, labels).item()\n",
    "    \n",
    "    _, predicted = out.max(1)\n",
    "    correct = (predicted == labels).sum().item()\n",
    "    \n",
    "    sc.calc_sum([loss], [correct])\n",
    "\n",
    "sc.score_print(len(testset), train = False)\n",
    "sc.score_append(len(testset), train = False)\n",
    "sc.score_del()"
   ]
  },
  {
   "cell_type": "code",
   "execution_count": 9,
   "metadata": {},
   "outputs": [],
   "source": [
    "# get the scores\n",
    "train_losses, train_corrects = sc.get_value()\n",
    "test_losses, test_corrects = sc.get_value(train = False)"
   ]
  },
  {
   "cell_type": "code",
   "execution_count": 12,
   "metadata": {},
   "outputs": [],
   "source": [
    "# output the scores\n",
    "savescore.save_data(train_losses[0], test_losses[0], train_corrects[0], test_corrects[0], result_name)"
   ]
  },
  {
   "cell_type": "code",
   "execution_count": null,
   "metadata": {},
   "outputs": [],
   "source": []
  },
  {
   "cell_type": "code",
   "execution_count": null,
   "metadata": {},
   "outputs": [],
   "source": []
  },
  {
   "cell_type": "code",
   "execution_count": null,
   "metadata": {},
   "outputs": [],
   "source": []
  },
  {
   "cell_type": "code",
   "execution_count": null,
   "metadata": {},
   "outputs": [],
   "source": []
  },
  {
   "cell_type": "code",
   "execution_count": null,
   "metadata": {},
   "outputs": [],
   "source": []
  }
 ],
 "metadata": {
  "kernelspec": {
   "display_name": "Python 3",
   "language": "python",
   "name": "python3"
  },
  "language_info": {
   "codemirror_mode": {
    "name": "ipython",
    "version": 3
   },
   "file_extension": ".py",
   "mimetype": "text/x-python",
   "name": "python",
   "nbconvert_exporter": "python",
   "pygments_lexer": "ipython3",
   "version": "3.7.3"
  }
 },
 "nbformat": 4,
 "nbformat_minor": 4
}
